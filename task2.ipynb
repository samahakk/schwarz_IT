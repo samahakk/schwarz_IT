{
 "cells": [
  {
   "cell_type": "code",
   "execution_count": 70,
   "source": [
    "import pandas as pd\n",
    "import numpy as np"
   ],
   "outputs": [],
   "metadata": {}
  },
  {
   "cell_type": "code",
   "execution_count": 71,
   "source": [
    "events = pd.read_csv('events.csv')\n",
    "events['time'] = pd.to_datetime(events['time'])"
   ],
   "outputs": [],
   "metadata": {}
  },
  {
   "cell_type": "markdown",
   "source": [
    "## Task A: We would like you to reduce data temporal granularity to 10 minutes, so that there is only one single row for each 10 minutes. "
   ],
   "metadata": {}
  },
  {
   "cell_type": "code",
   "execution_count": 72,
   "source": [
    "events_10_min = events.groupby([pd.Grouper(key='time', freq='10min'), 'action'])['action'].count().reset_index(name='count')\n",
    "events_10_min"
   ],
   "outputs": [
    {
     "output_type": "execute_result",
     "data": {
      "text/plain": [
       "                         time action  count\n",
       "0   2016-07-26 02:40:00+00:00   Open     32\n",
       "1   2016-07-26 02:50:00+00:00  Close     11\n",
       "2   2016-07-26 02:50:00+00:00   Open    147\n",
       "3   2016-07-26 03:00:00+00:00  Close     19\n",
       "4   2016-07-26 03:00:00+00:00   Open    162\n",
       "..                        ...    ...    ...\n",
       "609 2016-07-28 06:00:00+00:00  Close     67\n",
       "610 2016-07-28 06:10:00+00:00  Close     55\n",
       "611 2016-07-28 06:20:00+00:00  Close     36\n",
       "612 2016-07-28 06:30:00+00:00  Close     27\n",
       "613 2016-07-28 06:40:00+00:00  Close      6\n",
       "\n",
       "[614 rows x 3 columns]"
      ],
      "text/html": [
       "<div>\n",
       "<style scoped>\n",
       "    .dataframe tbody tr th:only-of-type {\n",
       "        vertical-align: middle;\n",
       "    }\n",
       "\n",
       "    .dataframe tbody tr th {\n",
       "        vertical-align: top;\n",
       "    }\n",
       "\n",
       "    .dataframe thead th {\n",
       "        text-align: right;\n",
       "    }\n",
       "</style>\n",
       "<table border=\"1\" class=\"dataframe\">\n",
       "  <thead>\n",
       "    <tr style=\"text-align: right;\">\n",
       "      <th></th>\n",
       "      <th>time</th>\n",
       "      <th>action</th>\n",
       "      <th>count</th>\n",
       "    </tr>\n",
       "  </thead>\n",
       "  <tbody>\n",
       "    <tr>\n",
       "      <th>0</th>\n",
       "      <td>2016-07-26 02:40:00+00:00</td>\n",
       "      <td>Open</td>\n",
       "      <td>32</td>\n",
       "    </tr>\n",
       "    <tr>\n",
       "      <th>1</th>\n",
       "      <td>2016-07-26 02:50:00+00:00</td>\n",
       "      <td>Close</td>\n",
       "      <td>11</td>\n",
       "    </tr>\n",
       "    <tr>\n",
       "      <th>2</th>\n",
       "      <td>2016-07-26 02:50:00+00:00</td>\n",
       "      <td>Open</td>\n",
       "      <td>147</td>\n",
       "    </tr>\n",
       "    <tr>\n",
       "      <th>3</th>\n",
       "      <td>2016-07-26 03:00:00+00:00</td>\n",
       "      <td>Close</td>\n",
       "      <td>19</td>\n",
       "    </tr>\n",
       "    <tr>\n",
       "      <th>4</th>\n",
       "      <td>2016-07-26 03:00:00+00:00</td>\n",
       "      <td>Open</td>\n",
       "      <td>162</td>\n",
       "    </tr>\n",
       "    <tr>\n",
       "      <th>...</th>\n",
       "      <td>...</td>\n",
       "      <td>...</td>\n",
       "      <td>...</td>\n",
       "    </tr>\n",
       "    <tr>\n",
       "      <th>609</th>\n",
       "      <td>2016-07-28 06:00:00+00:00</td>\n",
       "      <td>Close</td>\n",
       "      <td>67</td>\n",
       "    </tr>\n",
       "    <tr>\n",
       "      <th>610</th>\n",
       "      <td>2016-07-28 06:10:00+00:00</td>\n",
       "      <td>Close</td>\n",
       "      <td>55</td>\n",
       "    </tr>\n",
       "    <tr>\n",
       "      <th>611</th>\n",
       "      <td>2016-07-28 06:20:00+00:00</td>\n",
       "      <td>Close</td>\n",
       "      <td>36</td>\n",
       "    </tr>\n",
       "    <tr>\n",
       "      <th>612</th>\n",
       "      <td>2016-07-28 06:30:00+00:00</td>\n",
       "      <td>Close</td>\n",
       "      <td>27</td>\n",
       "    </tr>\n",
       "    <tr>\n",
       "      <th>613</th>\n",
       "      <td>2016-07-28 06:40:00+00:00</td>\n",
       "      <td>Close</td>\n",
       "      <td>6</td>\n",
       "    </tr>\n",
       "  </tbody>\n",
       "</table>\n",
       "<p>614 rows × 3 columns</p>\n",
       "</div>"
      ]
     },
     "metadata": {},
     "execution_count": 72
    }
   ],
   "metadata": {}
  },
  {
   "cell_type": "markdown",
   "source": [
    "## Task B: Over this temporal aggregation count how many actions of each type there is per minute."
   ],
   "metadata": {}
  },
  {
   "cell_type": "code",
   "execution_count": 81,
   "source": [
    "events_1_min = events.groupby([pd.Grouper(key='time', freq='1min'), 'action'])['action'].count().reset_index(name='count')\n",
    "print(events_1_min)"
   ],
   "outputs": [
    {
     "output_type": "stream",
     "name": "stdout",
     "text": [
      "                          time action  count\n",
      "0    2016-07-26 02:45:00+00:00   Open      2\n",
      "1    2016-07-26 02:46:00+00:00   Open      2\n",
      "2    2016-07-26 02:47:00+00:00   Open     11\n",
      "3    2016-07-26 02:48:00+00:00   Open      7\n",
      "4    2016-07-26 02:49:00+00:00   Open     10\n",
      "...                        ...    ...    ...\n",
      "6117 2016-07-28 06:42:00+00:00  Close      1\n",
      "6118 2016-07-28 06:43:00+00:00  Close      1\n",
      "6119 2016-07-28 06:45:00+00:00  Close      1\n",
      "6120 2016-07-28 06:47:00+00:00  Close      1\n",
      "6121 2016-07-28 06:48:00+00:00  Close      1\n",
      "\n",
      "[6122 rows x 3 columns]\n"
     ]
    }
   ],
   "metadata": {}
  },
  {
   "cell_type": "markdown",
   "source": [
    "## Task C: After previous calculation, please compute the average number of actions each 10 minutes."
   ],
   "metadata": {}
  },
  {
   "cell_type": "code",
   "execution_count": 74,
   "source": [
    "events_10_min_average = events_10_min['count'].mean()\n",
    "print(f'The average count of actions within 10 Minutes yields: {events_10_min_average} actions per 10 Minutes')"
   ],
   "outputs": [
    {
     "output_type": "stream",
     "name": "stdout",
     "text": [
      "The average count of actions within 10 Minutes yields: 162.86644951140065 actions per 10 Minutes\n"
     ]
    }
   ],
   "metadata": {}
  },
  {
   "cell_type": "markdown",
   "source": [
    "## Task D: Finally we would like you to compute the top 10 minutes with a bigger amount of \"open\" action."
   ],
   "metadata": {}
  },
  {
   "cell_type": "code",
   "execution_count": 85,
   "source": [
    "events_1_min_open = events_1_min[events_1_min['action']=='Open']\n",
    "events_1_min_open.sort_values(by=['count'], ascending= False, inplace=True)\n",
    "events_1_min_open.head(10)"
   ],
   "outputs": [
    {
     "output_type": "stream",
     "name": "stderr",
     "text": [
      "<ipython-input-85-de9c4905ac34>:2: SettingWithCopyWarning: \n",
      "A value is trying to be set on a copy of a slice from a DataFrame\n",
      "\n",
      "See the caveats in the documentation: https://pandas.pydata.org/pandas-docs/stable/user_guide/indexing.html#returning-a-view-versus-a-copy\n",
      "  events_1_min_open.sort_values(by=['count'], ascending= False, inplace=True)\n"
     ]
    },
    {
     "output_type": "execute_result",
     "data": {
      "text/plain": [
       "                          time action  count\n",
       "5061 2016-07-27 20:59:00+00:00   Open     34\n",
       "2555 2016-07-27 00:06:00+00:00   Open     30\n",
       "629  2016-07-26 08:03:00+00:00   Open     30\n",
       "3905 2016-07-27 11:21:00+00:00   Open     30\n",
       "4375 2016-07-27 15:16:00+00:00   Open     29\n",
       "2359 2016-07-26 22:28:00+00:00   Open     29\n",
       "3799 2016-07-27 10:28:00+00:00   Open     29\n",
       "3687 2016-07-27 09:32:00+00:00   Open     28\n",
       "5909 2016-07-28 04:03:00+00:00   Open     28\n",
       "3657 2016-07-27 09:17:00+00:00   Open     28"
      ],
      "text/html": [
       "<div>\n",
       "<style scoped>\n",
       "    .dataframe tbody tr th:only-of-type {\n",
       "        vertical-align: middle;\n",
       "    }\n",
       "\n",
       "    .dataframe tbody tr th {\n",
       "        vertical-align: top;\n",
       "    }\n",
       "\n",
       "    .dataframe thead th {\n",
       "        text-align: right;\n",
       "    }\n",
       "</style>\n",
       "<table border=\"1\" class=\"dataframe\">\n",
       "  <thead>\n",
       "    <tr style=\"text-align: right;\">\n",
       "      <th></th>\n",
       "      <th>time</th>\n",
       "      <th>action</th>\n",
       "      <th>count</th>\n",
       "    </tr>\n",
       "  </thead>\n",
       "  <tbody>\n",
       "    <tr>\n",
       "      <th>5061</th>\n",
       "      <td>2016-07-27 20:59:00+00:00</td>\n",
       "      <td>Open</td>\n",
       "      <td>34</td>\n",
       "    </tr>\n",
       "    <tr>\n",
       "      <th>2555</th>\n",
       "      <td>2016-07-27 00:06:00+00:00</td>\n",
       "      <td>Open</td>\n",
       "      <td>30</td>\n",
       "    </tr>\n",
       "    <tr>\n",
       "      <th>629</th>\n",
       "      <td>2016-07-26 08:03:00+00:00</td>\n",
       "      <td>Open</td>\n",
       "      <td>30</td>\n",
       "    </tr>\n",
       "    <tr>\n",
       "      <th>3905</th>\n",
       "      <td>2016-07-27 11:21:00+00:00</td>\n",
       "      <td>Open</td>\n",
       "      <td>30</td>\n",
       "    </tr>\n",
       "    <tr>\n",
       "      <th>4375</th>\n",
       "      <td>2016-07-27 15:16:00+00:00</td>\n",
       "      <td>Open</td>\n",
       "      <td>29</td>\n",
       "    </tr>\n",
       "    <tr>\n",
       "      <th>2359</th>\n",
       "      <td>2016-07-26 22:28:00+00:00</td>\n",
       "      <td>Open</td>\n",
       "      <td>29</td>\n",
       "    </tr>\n",
       "    <tr>\n",
       "      <th>3799</th>\n",
       "      <td>2016-07-27 10:28:00+00:00</td>\n",
       "      <td>Open</td>\n",
       "      <td>29</td>\n",
       "    </tr>\n",
       "    <tr>\n",
       "      <th>3687</th>\n",
       "      <td>2016-07-27 09:32:00+00:00</td>\n",
       "      <td>Open</td>\n",
       "      <td>28</td>\n",
       "    </tr>\n",
       "    <tr>\n",
       "      <th>5909</th>\n",
       "      <td>2016-07-28 04:03:00+00:00</td>\n",
       "      <td>Open</td>\n",
       "      <td>28</td>\n",
       "    </tr>\n",
       "    <tr>\n",
       "      <th>3657</th>\n",
       "      <td>2016-07-27 09:17:00+00:00</td>\n",
       "      <td>Open</td>\n",
       "      <td>28</td>\n",
       "    </tr>\n",
       "  </tbody>\n",
       "</table>\n",
       "</div>"
      ]
     },
     "metadata": {},
     "execution_count": 85
    }
   ],
   "metadata": {}
  }
 ],
 "metadata": {
  "orig_nbformat": 4,
  "language_info": {
   "name": "python",
   "version": "3.8.0",
   "mimetype": "text/x-python",
   "codemirror_mode": {
    "name": "ipython",
    "version": 3
   },
   "pygments_lexer": "ipython3",
   "nbconvert_exporter": "python",
   "file_extension": ".py"
  },
  "kernelspec": {
   "name": "python3",
   "display_name": "masterarbeit:pyenv"
  },
  "interpreter": {
   "hash": "04638df13d96155a83b984d2e694593cccb7a291dab629de609af25430b2da82"
  }
 },
 "nbformat": 4,
 "nbformat_minor": 2
}